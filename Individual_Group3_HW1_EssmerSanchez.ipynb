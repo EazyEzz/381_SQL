{
    "metadata": {
        "kernelspec": {
            "name": "SQL",
            "display_name": "SQL",
            "language": "sql"
        },
        "language_info": {
            "name": "sql",
            "version": ""
        }
    },
    "nbformat_minor": 2,
    "nbformat": 4,
    "cells": [
        {
            "cell_type": "markdown",
            "source": [
                "# Essmer Sanchez\n",
                "## 381 SQL Single Tables HW.1 \n",
                "## Assigned Queries: 9, 10\n",
                "## Due: 2/7/2024\n",
                ""
            ],
            "metadata": {
                "azdata_cell_guid": "b4615208-1bba-4cd3-a157-d98fb3a1a418"
            },
            "attachments": {}
        },
        {
            "cell_type": "markdown",
            "source": [
                ">**Query 9: Figure out and return for each employee the gender based on the title of courtesy:**\n",
                "\n",
                "> **Ms. , Mrs. - Female, Mr. - Male, Dr. - Unkown. Tables involved: HR.Employees table**"
            ],
            "metadata": {
                "azdata_cell_guid": "7f49dd8e-de35-40a1-bcf8-b8d7bebbc3b2"
            },
            "attachments": {}
        },
        {
            "cell_type": "markdown",
            "source": [
                "Prepostion: Employees within the database can be categorized into one of three genders based on their title of courtesy; Female if Ms. or Mrs., Male if Mr., and Unknown if 'Dr'.\n",
                "\n",
                "Table: The tables involved are HR.Employee in TSQLV4 and HumanResources.Employee in Northwinds2022TSQLV7.\n",
                "\n",
                "Columns in TSQLV4 involved are 'empid', 'firstname', 'lastname', and 'titleofcourtesy'. An SQL created column is 'gender' based on titleofcourtesy Case.\n",
                "\n",
                "Columns in Northwinds2022TSQLV7 involved are 'EmployeeId', 'EmployeeFirstName', 'EmployeeLastName', and 'EmployeeTitleOfCourtesy'. An SQL created column is 'EmployeeGender' based on EmployeeTitleOfCourtesy Case.\n",
                "\n",
                "Predicate: For every HR.Employee/HumanResources.Employee, there exists a gender based on their title of courtesy, when it is Ms. or Mr.s = Female, Mr. = Male, and Dr. = Unknown."
            ],
            "metadata": {
                "azdata_cell_guid": "ec227309-444d-438d-92a2-2d4e0a9b9768"
            },
            "attachments": {}
        },
        {
            "cell_type": "markdown",
            "source": [
                "**9. TSQLV4**"
            ],
            "metadata": {
                "azdata_cell_guid": "fa11f334-3261-47e4-8174-aaacf3b65f04"
            },
            "attachments": {}
        },
        {
            "cell_type": "code",
            "source": [
                "USE TSQLV4;\r\n",
                "\r\n",
                "SELECT empid, firstname, lastname, titleofcourtesy,\r\n",
                "    CASE\r\n",
                "        WHEN titleofcourtesy IN ('Ms.', 'Mrs.') THEN 'Female'\r\n",
                "        WHEN titleofcourtesy = 'Mr.' THEN 'Male'\r\n",
                "        WHEN titleofcourtesy = 'Dr.' THEN 'Unknown'\r\n",
                "    END AS gender\r\n",
                "FROM HR.Employees"
            ],
            "metadata": {
                "azdata_cell_guid": "03c27869-c93f-4730-9a04-f4e9bde04e2a",
                "language": "sql"
            },
            "outputs": [
                {
                    "output_type": "display_data",
                    "data": {
                        "text/html": "(9 rows affected)"
                    },
                    "metadata": {}
                },
                {
                    "output_type": "display_data",
                    "data": {
                        "text/html": "Total execution time: 00:00:00.004"
                    },
                    "metadata": {}
                },
                {
                    "output_type": "execute_result",
                    "metadata": {},
                    "execution_count": 16,
                    "data": {
                        "application/vnd.dataresource+json": {
                            "schema": {
                                "fields": [
                                    {
                                        "name": "empid"
                                    },
                                    {
                                        "name": "firstname"
                                    },
                                    {
                                        "name": "lastname"
                                    },
                                    {
                                        "name": "titleofcourtesy"
                                    },
                                    {
                                        "name": "gender"
                                    }
                                ]
                            },
                            "data": [
                                {
                                    "empid": "1",
                                    "firstname": "Sara",
                                    "lastname": "Davis",
                                    "titleofcourtesy": "Ms.",
                                    "gender": "Female"
                                },
                                {
                                    "empid": "2",
                                    "firstname": "Don",
                                    "lastname": "Funk",
                                    "titleofcourtesy": "Dr.",
                                    "gender": "Unknown"
                                },
                                {
                                    "empid": "3",
                                    "firstname": "Judy",
                                    "lastname": "Lew",
                                    "titleofcourtesy": "Ms.",
                                    "gender": "Female"
                                },
                                {
                                    "empid": "4",
                                    "firstname": "Yael",
                                    "lastname": "Peled",
                                    "titleofcourtesy": "Mrs.",
                                    "gender": "Female"
                                },
                                {
                                    "empid": "5",
                                    "firstname": "Sven",
                                    "lastname": "Mortensen",
                                    "titleofcourtesy": "Mr.",
                                    "gender": "Male"
                                },
                                {
                                    "empid": "6",
                                    "firstname": "Paul",
                                    "lastname": "Suurs",
                                    "titleofcourtesy": "Mr.",
                                    "gender": "Male"
                                },
                                {
                                    "empid": "7",
                                    "firstname": "Russell",
                                    "lastname": "King",
                                    "titleofcourtesy": "Mr.",
                                    "gender": "Male"
                                },
                                {
                                    "empid": "8",
                                    "firstname": "Maria",
                                    "lastname": "Cameron",
                                    "titleofcourtesy": "Ms.",
                                    "gender": "Female"
                                },
                                {
                                    "empid": "9",
                                    "firstname": "Patricia",
                                    "lastname": "Doyle",
                                    "titleofcourtesy": "Ms.",
                                    "gender": "Female"
                                }
                            ]
                        },
                        "text/html": [
                            "<table>",
                            "<tr><th>empid</th><th>firstname</th><th>lastname</th><th>titleofcourtesy</th><th>gender</th></tr>",
                            "<tr><td>1</td><td>Sara</td><td>Davis</td><td>Ms.</td><td>Female</td></tr>",
                            "<tr><td>2</td><td>Don</td><td>Funk</td><td>Dr.</td><td>Unknown</td></tr>",
                            "<tr><td>3</td><td>Judy</td><td>Lew</td><td>Ms.</td><td>Female</td></tr>",
                            "<tr><td>4</td><td>Yael</td><td>Peled</td><td>Mrs.</td><td>Female</td></tr>",
                            "<tr><td>5</td><td>Sven</td><td>Mortensen</td><td>Mr.</td><td>Male</td></tr>",
                            "<tr><td>6</td><td>Paul</td><td>Suurs</td><td>Mr.</td><td>Male</td></tr>",
                            "<tr><td>7</td><td>Russell</td><td>King</td><td>Mr.</td><td>Male</td></tr>",
                            "<tr><td>8</td><td>Maria</td><td>Cameron</td><td>Ms.</td><td>Female</td></tr>",
                            "<tr><td>9</td><td>Patricia</td><td>Doyle</td><td>Ms.</td><td>Female</td></tr>",
                            "</table>"
                        ]
                    }
                }
            ],
            "execution_count": 16
        },
        {
            "cell_type": "markdown",
            "source": [
                "**9. Northwinds2022TSQLV7**"
            ],
            "metadata": {
                "language": "sql",
                "azdata_cell_guid": "65e507b2-e8b7-42c4-a59a-e0ee9aeef046"
            },
            "attachments": {}
        },
        {
            "cell_type": "code",
            "source": [
                "USE Northwinds2022TSQLV7;\r\n",
                "\r\n",
                "SELECT EmployeeID, EmployeeFirstName, EmployeeLastName, EmployeeTitleOfCourtesy,\r\n",
                "    CASE\r\n",
                "        WHEN EmployeeTitleOfCourtesy IN ('Ms.', 'Mrs.') THEN 'Female'\r\n",
                "        WHEN EmployeeTitleOfCourtesy = 'Mr.' THEN 'Male'\r\n",
                "        WHEN EmployeeTitleOfCourtesy = 'Dr.' THEN 'Unknown'\r\n",
                "    END AS EmployeeGender\r\n",
                "FROM HumanResources.Employee;"
            ],
            "metadata": {
                "azdata_cell_guid": "5771e945-c57f-4b06-bea3-9a4c3122ae31",
                "language": "sql"
            },
            "outputs": [
                {
                    "output_type": "display_data",
                    "data": {
                        "text/html": "(9 rows affected)"
                    },
                    "metadata": {}
                },
                {
                    "output_type": "display_data",
                    "data": {
                        "text/html": "Total execution time: 00:00:00.004"
                    },
                    "metadata": {}
                },
                {
                    "output_type": "execute_result",
                    "metadata": {},
                    "execution_count": 17,
                    "data": {
                        "application/vnd.dataresource+json": {
                            "schema": {
                                "fields": [
                                    {
                                        "name": "EmployeeID"
                                    },
                                    {
                                        "name": "EmployeeFirstName"
                                    },
                                    {
                                        "name": "EmployeeLastName"
                                    },
                                    {
                                        "name": "EmployeeTitleOfCourtesy"
                                    },
                                    {
                                        "name": "EmployeeGender"
                                    }
                                ]
                            },
                            "data": [
                                {
                                    "EmployeeID": "1",
                                    "EmployeeFirstName": "Sara",
                                    "EmployeeLastName": "Davis",
                                    "EmployeeTitleOfCourtesy": "Ms.",
                                    "EmployeeGender": "Female"
                                },
                                {
                                    "EmployeeID": "2",
                                    "EmployeeFirstName": "Don",
                                    "EmployeeLastName": "Funk",
                                    "EmployeeTitleOfCourtesy": "Dr.",
                                    "EmployeeGender": "Unknown"
                                },
                                {
                                    "EmployeeID": "3",
                                    "EmployeeFirstName": "Judy",
                                    "EmployeeLastName": "Lew",
                                    "EmployeeTitleOfCourtesy": "Ms.",
                                    "EmployeeGender": "Female"
                                },
                                {
                                    "EmployeeID": "4",
                                    "EmployeeFirstName": "Yael",
                                    "EmployeeLastName": "Peled",
                                    "EmployeeTitleOfCourtesy": "Mrs.",
                                    "EmployeeGender": "Female"
                                },
                                {
                                    "EmployeeID": "5",
                                    "EmployeeFirstName": "Sven",
                                    "EmployeeLastName": "Mortensen",
                                    "EmployeeTitleOfCourtesy": "Mr.",
                                    "EmployeeGender": "Male"
                                },
                                {
                                    "EmployeeID": "6",
                                    "EmployeeFirstName": "Paul",
                                    "EmployeeLastName": "Suurs",
                                    "EmployeeTitleOfCourtesy": "Mr.",
                                    "EmployeeGender": "Male"
                                },
                                {
                                    "EmployeeID": "7",
                                    "EmployeeFirstName": "Russell",
                                    "EmployeeLastName": "King",
                                    "EmployeeTitleOfCourtesy": "Mr.",
                                    "EmployeeGender": "Male"
                                },
                                {
                                    "EmployeeID": "8",
                                    "EmployeeFirstName": "Maria",
                                    "EmployeeLastName": "Cameron",
                                    "EmployeeTitleOfCourtesy": "Ms.",
                                    "EmployeeGender": "Female"
                                },
                                {
                                    "EmployeeID": "9",
                                    "EmployeeFirstName": "Patricia",
                                    "EmployeeLastName": "Doyle",
                                    "EmployeeTitleOfCourtesy": "Ms.",
                                    "EmployeeGender": "Female"
                                }
                            ]
                        },
                        "text/html": [
                            "<table>",
                            "<tr><th>EmployeeID</th><th>EmployeeFirstName</th><th>EmployeeLastName</th><th>EmployeeTitleOfCourtesy</th><th>EmployeeGender</th></tr>",
                            "<tr><td>1</td><td>Sara</td><td>Davis</td><td>Ms.</td><td>Female</td></tr>",
                            "<tr><td>2</td><td>Don</td><td>Funk</td><td>Dr.</td><td>Unknown</td></tr>",
                            "<tr><td>3</td><td>Judy</td><td>Lew</td><td>Ms.</td><td>Female</td></tr>",
                            "<tr><td>4</td><td>Yael</td><td>Peled</td><td>Mrs.</td><td>Female</td></tr>",
                            "<tr><td>5</td><td>Sven</td><td>Mortensen</td><td>Mr.</td><td>Male</td></tr>",
                            "<tr><td>6</td><td>Paul</td><td>Suurs</td><td>Mr.</td><td>Male</td></tr>",
                            "<tr><td>7</td><td>Russell</td><td>King</td><td>Mr.</td><td>Male</td></tr>",
                            "<tr><td>8</td><td>Maria</td><td>Cameron</td><td>Ms.</td><td>Female</td></tr>",
                            "<tr><td>9</td><td>Patricia</td><td>Doyle</td><td>Ms.</td><td>Female</td></tr>",
                            "</table>"
                        ]
                    }
                }
            ],
            "execution_count": 17
        },
        {
            "cell_type": "markdown",
            "source": [
                "> **Query 10: Return for each customer the customer ID and region. Sort the rows in the output by region having NULL's sort last (after non-NULL values).**\n",
                "\n",
                "> **Note that the default in T-SQL is that NULLs sort first.**\n",
                "\n",
                "> **Tables involved: Sales.Customers in TSQLV4  and Sales.Customer in Northwinds**"
            ],
            "metadata": {
                "azdata_cell_guid": "8a23be03-fa12-4653-bc66-58795dcb3fe8"
            },
            "attachments": {}
        },
        {
            "cell_type": "markdown",
            "source": [
                "Prepostion: Each customer has an ID and can have a region.\n",
                "\n",
                "Table: The tables involved are Sales.Customers in TSQLV4 and Sales.Customer in Northwinds2022TSQLV7.\n",
                "\n",
                "Columns in TSQLV4 involved are 'custid' and 'region'. \n",
                "\n",
                "Columns in Northwinds2022TSQLV7 involved are 'CustomerId' and 'CustomerRegion'.\n",
                "\n",
                "Predicate: For every Sales.Customer/Sales.Customers there exists a 'region', when region is NULL, it gets place at the bottom, else at the top."
            ],
            "metadata": {
                "azdata_cell_guid": "5998e757-6cb6-4053-b7eb-802e855f9586"
            },
            "attachments": {}
        },
        {
            "cell_type": "markdown",
            "source": [
                "<span style=\"color: #000080;font-weight: bold;\">**10. TSQLV4**</span>"
            ],
            "metadata": {
                "azdata_cell_guid": "8854239e-ba54-4fe6-8828-43005e671dca"
            },
            "attachments": {}
        },
        {
            "cell_type": "code",
            "source": [
                "USE TSQLV4;\r\n",
                "\r\n",
                "SELECT custid, region\r\n",
                "FROM Sales.Customers\r\n",
                "ORDER BY CASE \r\n",
                "    WHEN region is NULL\r\n",
                "        THEN 1\r\n",
                "        ELSE 0\r\n",
                "    END, region; "
            ],
            "metadata": {
                "azdata_cell_guid": "9c19b592-3136-49fd-932f-fc5522250326",
                "language": "sql",
                "tags": []
            },
            "outputs": [
                {
                    "output_type": "display_data",
                    "data": {
                        "text/html": "(91 rows affected)"
                    },
                    "metadata": {}
                },
                {
                    "output_type": "display_data",
                    "data": {
                        "text/html": "Total execution time: 00:00:00.009"
                    },
                    "metadata": {}
                },
                {
                    "output_type": "execute_result",
                    "metadata": {},
                    "execution_count": 18,
                    "data": {
                        "application/vnd.dataresource+json": {
                            "schema": {
                                "fields": [
                                    {
                                        "name": "custid"
                                    },
                                    {
                                        "name": "region"
                                    }
                                ]
                            },
                            "data": [
                                {
                                    "custid": "55",
                                    "region": "AK"
                                },
                                {
                                    "custid": "10",
                                    "region": "BC"
                                },
                                {
                                    "custid": "42",
                                    "region": "BC"
                                },
                                {
                                    "custid": "45",
                                    "region": "CA"
                                },
                                {
                                    "custid": "37",
                                    "region": "Co. Cork"
                                },
                                {
                                    "custid": "33",
                                    "region": "DF"
                                },
                                {
                                    "custid": "71",
                                    "region": "ID"
                                },
                                {
                                    "custid": "38",
                                    "region": "Isle of Wight"
                                },
                                {
                                    "custid": "46",
                                    "region": "Lara"
                                },
                                {
                                    "custid": "78",
                                    "region": "MT"
                                },
                                {
                                    "custid": "65",
                                    "region": "NM"
                                },
                                {
                                    "custid": "47",
                                    "region": "Nueva Esparta"
                                },
                                {
                                    "custid": "32",
                                    "region": "OR"
                                },
                                {
                                    "custid": "36",
                                    "region": "OR"
                                },
                                {
                                    "custid": "48",
                                    "region": "OR"
                                },
                                {
                                    "custid": "77",
                                    "region": "OR"
                                },
                                {
                                    "custid": "51",
                                    "region": "Québec"
                                },
                                {
                                    "custid": "34",
                                    "region": "RJ"
                                },
                                {
                                    "custid": "61",
                                    "region": "RJ"
                                },
                                {
                                    "custid": "67",
                                    "region": "RJ"
                                },
                                {
                                    "custid": "15",
                                    "region": "SP"
                                },
                                {
                                    "custid": "21",
                                    "region": "SP"
                                },
                                {
                                    "custid": "31",
                                    "region": "SP"
                                },
                                {
                                    "custid": "62",
                                    "region": "SP"
                                },
                                {
                                    "custid": "81",
                                    "region": "SP"
                                },
                                {
                                    "custid": "88",
                                    "region": "SP"
                                },
                                {
                                    "custid": "35",
                                    "region": "Táchira"
                                },
                                {
                                    "custid": "43",
                                    "region": "WA"
                                },
                                {
                                    "custid": "82",
                                    "region": "WA"
                                },
                                {
                                    "custid": "89",
                                    "region": "WA"
                                },
                                {
                                    "custid": "75",
                                    "region": "WY"
                                },
                                {
                                    "custid": "1",
                                    "region": "NULL"
                                },
                                {
                                    "custid": "2",
                                    "region": "NULL"
                                },
                                {
                                    "custid": "3",
                                    "region": "NULL"
                                },
                                {
                                    "custid": "4",
                                    "region": "NULL"
                                },
                                {
                                    "custid": "5",
                                    "region": "NULL"
                                },
                                {
                                    "custid": "6",
                                    "region": "NULL"
                                },
                                {
                                    "custid": "7",
                                    "region": "NULL"
                                },
                                {
                                    "custid": "8",
                                    "region": "NULL"
                                },
                                {
                                    "custid": "9",
                                    "region": "NULL"
                                },
                                {
                                    "custid": "11",
                                    "region": "NULL"
                                },
                                {
                                    "custid": "12",
                                    "region": "NULL"
                                },
                                {
                                    "custid": "13",
                                    "region": "NULL"
                                },
                                {
                                    "custid": "14",
                                    "region": "NULL"
                                },
                                {
                                    "custid": "16",
                                    "region": "NULL"
                                },
                                {
                                    "custid": "17",
                                    "region": "NULL"
                                },
                                {
                                    "custid": "18",
                                    "region": "NULL"
                                },
                                {
                                    "custid": "19",
                                    "region": "NULL"
                                },
                                {
                                    "custid": "20",
                                    "region": "NULL"
                                },
                                {
                                    "custid": "22",
                                    "region": "NULL"
                                },
                                {
                                    "custid": "23",
                                    "region": "NULL"
                                },
                                {
                                    "custid": "24",
                                    "region": "NULL"
                                },
                                {
                                    "custid": "25",
                                    "region": "NULL"
                                },
                                {
                                    "custid": "26",
                                    "region": "NULL"
                                },
                                {
                                    "custid": "27",
                                    "region": "NULL"
                                },
                                {
                                    "custid": "28",
                                    "region": "NULL"
                                },
                                {
                                    "custid": "29",
                                    "region": "NULL"
                                },
                                {
                                    "custid": "30",
                                    "region": "NULL"
                                },
                                {
                                    "custid": "39",
                                    "region": "NULL"
                                },
                                {
                                    "custid": "40",
                                    "region": "NULL"
                                },
                                {
                                    "custid": "41",
                                    "region": "NULL"
                                },
                                {
                                    "custid": "44",
                                    "region": "NULL"
                                },
                                {
                                    "custid": "49",
                                    "region": "NULL"
                                },
                                {
                                    "custid": "50",
                                    "region": "NULL"
                                },
                                {
                                    "custid": "52",
                                    "region": "NULL"
                                },
                                {
                                    "custid": "53",
                                    "region": "NULL"
                                },
                                {
                                    "custid": "54",
                                    "region": "NULL"
                                },
                                {
                                    "custid": "56",
                                    "region": "NULL"
                                },
                                {
                                    "custid": "57",
                                    "region": "NULL"
                                },
                                {
                                    "custid": "58",
                                    "region": "NULL"
                                },
                                {
                                    "custid": "59",
                                    "region": "NULL"
                                },
                                {
                                    "custid": "60",
                                    "region": "NULL"
                                },
                                {
                                    "custid": "63",
                                    "region": "NULL"
                                },
                                {
                                    "custid": "64",
                                    "region": "NULL"
                                },
                                {
                                    "custid": "66",
                                    "region": "NULL"
                                },
                                {
                                    "custid": "68",
                                    "region": "NULL"
                                },
                                {
                                    "custid": "69",
                                    "region": "NULL"
                                },
                                {
                                    "custid": "70",
                                    "region": "NULL"
                                },
                                {
                                    "custid": "72",
                                    "region": "NULL"
                                },
                                {
                                    "custid": "73",
                                    "region": "NULL"
                                },
                                {
                                    "custid": "74",
                                    "region": "NULL"
                                },
                                {
                                    "custid": "76",
                                    "region": "NULL"
                                },
                                {
                                    "custid": "79",
                                    "region": "NULL"
                                },
                                {
                                    "custid": "80",
                                    "region": "NULL"
                                },
                                {
                                    "custid": "83",
                                    "region": "NULL"
                                },
                                {
                                    "custid": "84",
                                    "region": "NULL"
                                },
                                {
                                    "custid": "85",
                                    "region": "NULL"
                                },
                                {
                                    "custid": "86",
                                    "region": "NULL"
                                },
                                {
                                    "custid": "87",
                                    "region": "NULL"
                                },
                                {
                                    "custid": "90",
                                    "region": "NULL"
                                },
                                {
                                    "custid": "91",
                                    "region": "NULL"
                                }
                            ]
                        },
                        "text/html": [
                            "<table>",
                            "<tr><th>custid</th><th>region</th></tr>",
                            "<tr><td>55</td><td>AK</td></tr>",
                            "<tr><td>10</td><td>BC</td></tr>",
                            "<tr><td>42</td><td>BC</td></tr>",
                            "<tr><td>45</td><td>CA</td></tr>",
                            "<tr><td>37</td><td>Co. Cork</td></tr>",
                            "<tr><td>33</td><td>DF</td></tr>",
                            "<tr><td>71</td><td>ID</td></tr>",
                            "<tr><td>38</td><td>Isle of Wight</td></tr>",
                            "<tr><td>46</td><td>Lara</td></tr>",
                            "<tr><td>78</td><td>MT</td></tr>",
                            "<tr><td>65</td><td>NM</td></tr>",
                            "<tr><td>47</td><td>Nueva Esparta</td></tr>",
                            "<tr><td>32</td><td>OR</td></tr>",
                            "<tr><td>36</td><td>OR</td></tr>",
                            "<tr><td>48</td><td>OR</td></tr>",
                            "<tr><td>77</td><td>OR</td></tr>",
                            "<tr><td>51</td><td>Québec</td></tr>",
                            "<tr><td>34</td><td>RJ</td></tr>",
                            "<tr><td>61</td><td>RJ</td></tr>",
                            "<tr><td>67</td><td>RJ</td></tr>",
                            "<tr><td>15</td><td>SP</td></tr>",
                            "<tr><td>21</td><td>SP</td></tr>",
                            "<tr><td>31</td><td>SP</td></tr>",
                            "<tr><td>62</td><td>SP</td></tr>",
                            "<tr><td>81</td><td>SP</td></tr>",
                            "<tr><td>88</td><td>SP</td></tr>",
                            "<tr><td>35</td><td>Táchira</td></tr>",
                            "<tr><td>43</td><td>WA</td></tr>",
                            "<tr><td>82</td><td>WA</td></tr>",
                            "<tr><td>89</td><td>WA</td></tr>",
                            "<tr><td>75</td><td>WY</td></tr>",
                            "<tr><td>1</td><td>NULL</td></tr>",
                            "<tr><td>2</td><td>NULL</td></tr>",
                            "<tr><td>3</td><td>NULL</td></tr>",
                            "<tr><td>4</td><td>NULL</td></tr>",
                            "<tr><td>5</td><td>NULL</td></tr>",
                            "<tr><td>6</td><td>NULL</td></tr>",
                            "<tr><td>7</td><td>NULL</td></tr>",
                            "<tr><td>8</td><td>NULL</td></tr>",
                            "<tr><td>9</td><td>NULL</td></tr>",
                            "<tr><td>11</td><td>NULL</td></tr>",
                            "<tr><td>12</td><td>NULL</td></tr>",
                            "<tr><td>13</td><td>NULL</td></tr>",
                            "<tr><td>14</td><td>NULL</td></tr>",
                            "<tr><td>16</td><td>NULL</td></tr>",
                            "<tr><td>17</td><td>NULL</td></tr>",
                            "<tr><td>18</td><td>NULL</td></tr>",
                            "<tr><td>19</td><td>NULL</td></tr>",
                            "<tr><td>20</td><td>NULL</td></tr>",
                            "<tr><td>22</td><td>NULL</td></tr>",
                            "<tr><td>23</td><td>NULL</td></tr>",
                            "<tr><td>24</td><td>NULL</td></tr>",
                            "<tr><td>25</td><td>NULL</td></tr>",
                            "<tr><td>26</td><td>NULL</td></tr>",
                            "<tr><td>27</td><td>NULL</td></tr>",
                            "<tr><td>28</td><td>NULL</td></tr>",
                            "<tr><td>29</td><td>NULL</td></tr>",
                            "<tr><td>30</td><td>NULL</td></tr>",
                            "<tr><td>39</td><td>NULL</td></tr>",
                            "<tr><td>40</td><td>NULL</td></tr>",
                            "<tr><td>41</td><td>NULL</td></tr>",
                            "<tr><td>44</td><td>NULL</td></tr>",
                            "<tr><td>49</td><td>NULL</td></tr>",
                            "<tr><td>50</td><td>NULL</td></tr>",
                            "<tr><td>52</td><td>NULL</td></tr>",
                            "<tr><td>53</td><td>NULL</td></tr>",
                            "<tr><td>54</td><td>NULL</td></tr>",
                            "<tr><td>56</td><td>NULL</td></tr>",
                            "<tr><td>57</td><td>NULL</td></tr>",
                            "<tr><td>58</td><td>NULL</td></tr>",
                            "<tr><td>59</td><td>NULL</td></tr>",
                            "<tr><td>60</td><td>NULL</td></tr>",
                            "<tr><td>63</td><td>NULL</td></tr>",
                            "<tr><td>64</td><td>NULL</td></tr>",
                            "<tr><td>66</td><td>NULL</td></tr>",
                            "<tr><td>68</td><td>NULL</td></tr>",
                            "<tr><td>69</td><td>NULL</td></tr>",
                            "<tr><td>70</td><td>NULL</td></tr>",
                            "<tr><td>72</td><td>NULL</td></tr>",
                            "<tr><td>73</td><td>NULL</td></tr>",
                            "<tr><td>74</td><td>NULL</td></tr>",
                            "<tr><td>76</td><td>NULL</td></tr>",
                            "<tr><td>79</td><td>NULL</td></tr>",
                            "<tr><td>80</td><td>NULL</td></tr>",
                            "<tr><td>83</td><td>NULL</td></tr>",
                            "<tr><td>84</td><td>NULL</td></tr>",
                            "<tr><td>85</td><td>NULL</td></tr>",
                            "<tr><td>86</td><td>NULL</td></tr>",
                            "<tr><td>87</td><td>NULL</td></tr>",
                            "<tr><td>90</td><td>NULL</td></tr>",
                            "<tr><td>91</td><td>NULL</td></tr>",
                            "</table>"
                        ]
                    }
                }
            ],
            "execution_count": 18
        },
        {
            "cell_type": "markdown",
            "source": [
                "<span style=\"color: #000080;font-weight: bold;\">**10. Northwinds2022TSQLV7**</span>"
            ],
            "metadata": {
                "language": "sql",
                "azdata_cell_guid": "fef3ffb6-fc56-483a-bbfd-cc4eae370961"
            },
            "attachments": {}
        },
        {
            "cell_type": "code",
            "source": [
                "USE Northwinds2022TSQLV7;\r\n",
                "\r\n",
                "SELECT CustomerId, CustomerRegion\r\n",
                "FROM Sales.Customer\r\n",
                "ORDER BY CASE\r\n",
                "    WHEN CustomerRegion is NULL\r\n",
                "            THEN 1\r\n",
                "            ELSE 0\r\n",
                "    END, CustomerRegion"
            ],
            "metadata": {
                "language": "sql",
                "azdata_cell_guid": "7994a669-adbd-4eb5-8254-5eed5a789e9a"
            },
            "outputs": [
                {
                    "output_type": "display_data",
                    "data": {
                        "text/html": "(91 rows affected)"
                    },
                    "metadata": {}
                },
                {
                    "output_type": "display_data",
                    "data": {
                        "text/html": "Total execution time: 00:00:00.006"
                    },
                    "metadata": {}
                },
                {
                    "output_type": "execute_result",
                    "metadata": {},
                    "execution_count": 19,
                    "data": {
                        "application/vnd.dataresource+json": {
                            "schema": {
                                "fields": [
                                    {
                                        "name": "CustomerId"
                                    },
                                    {
                                        "name": "CustomerRegion"
                                    }
                                ]
                            },
                            "data": [
                                {
                                    "CustomerId": "55",
                                    "CustomerRegion": "AK"
                                },
                                {
                                    "CustomerId": "42",
                                    "CustomerRegion": "BC"
                                },
                                {
                                    "CustomerId": "10",
                                    "CustomerRegion": "BC"
                                },
                                {
                                    "CustomerId": "45",
                                    "CustomerRegion": "CA"
                                },
                                {
                                    "CustomerId": "37",
                                    "CustomerRegion": "Co. Cork"
                                },
                                {
                                    "CustomerId": "33",
                                    "CustomerRegion": "DF"
                                },
                                {
                                    "CustomerId": "71",
                                    "CustomerRegion": "ID"
                                },
                                {
                                    "CustomerId": "38",
                                    "CustomerRegion": "Isle of Wight"
                                },
                                {
                                    "CustomerId": "46",
                                    "CustomerRegion": "Lara"
                                },
                                {
                                    "CustomerId": "78",
                                    "CustomerRegion": "MT"
                                },
                                {
                                    "CustomerId": "65",
                                    "CustomerRegion": "NM"
                                },
                                {
                                    "CustomerId": "47",
                                    "CustomerRegion": "Nueva Esparta"
                                },
                                {
                                    "CustomerId": "48",
                                    "CustomerRegion": "OR"
                                },
                                {
                                    "CustomerId": "36",
                                    "CustomerRegion": "OR"
                                },
                                {
                                    "CustomerId": "77",
                                    "CustomerRegion": "OR"
                                },
                                {
                                    "CustomerId": "32",
                                    "CustomerRegion": "OR"
                                },
                                {
                                    "CustomerId": "51",
                                    "CustomerRegion": "Québec"
                                },
                                {
                                    "CustomerId": "61",
                                    "CustomerRegion": "RJ"
                                },
                                {
                                    "CustomerId": "67",
                                    "CustomerRegion": "RJ"
                                },
                                {
                                    "CustomerId": "34",
                                    "CustomerRegion": "RJ"
                                },
                                {
                                    "CustomerId": "31",
                                    "CustomerRegion": "SP"
                                },
                                {
                                    "CustomerId": "21",
                                    "CustomerRegion": "SP"
                                },
                                {
                                    "CustomerId": "15",
                                    "CustomerRegion": "SP"
                                },
                                {
                                    "CustomerId": "62",
                                    "CustomerRegion": "SP"
                                },
                                {
                                    "CustomerId": "81",
                                    "CustomerRegion": "SP"
                                },
                                {
                                    "CustomerId": "88",
                                    "CustomerRegion": "SP"
                                },
                                {
                                    "CustomerId": "35",
                                    "CustomerRegion": "Táchira"
                                },
                                {
                                    "CustomerId": "43",
                                    "CustomerRegion": "WA"
                                },
                                {
                                    "CustomerId": "89",
                                    "CustomerRegion": "WA"
                                },
                                {
                                    "CustomerId": "82",
                                    "CustomerRegion": "WA"
                                },
                                {
                                    "CustomerId": "75",
                                    "CustomerRegion": "WY"
                                },
                                {
                                    "CustomerId": "76",
                                    "CustomerRegion": "NULL"
                                },
                                {
                                    "CustomerId": "72",
                                    "CustomerRegion": "NULL"
                                },
                                {
                                    "CustomerId": "73",
                                    "CustomerRegion": "NULL"
                                },
                                {
                                    "CustomerId": "74",
                                    "CustomerRegion": "NULL"
                                },
                                {
                                    "CustomerId": "44",
                                    "CustomerRegion": "NULL"
                                },
                                {
                                    "CustomerId": "66",
                                    "CustomerRegion": "NULL"
                                },
                                {
                                    "CustomerId": "68",
                                    "CustomerRegion": "NULL"
                                },
                                {
                                    "CustomerId": "69",
                                    "CustomerRegion": "NULL"
                                },
                                {
                                    "CustomerId": "70",
                                    "CustomerRegion": "NULL"
                                },
                                {
                                    "CustomerId": "63",
                                    "CustomerRegion": "NULL"
                                },
                                {
                                    "CustomerId": "64",
                                    "CustomerRegion": "NULL"
                                },
                                {
                                    "CustomerId": "56",
                                    "CustomerRegion": "NULL"
                                },
                                {
                                    "CustomerId": "57",
                                    "CustomerRegion": "NULL"
                                },
                                {
                                    "CustomerId": "58",
                                    "CustomerRegion": "NULL"
                                },
                                {
                                    "CustomerId": "59",
                                    "CustomerRegion": "NULL"
                                },
                                {
                                    "CustomerId": "60",
                                    "CustomerRegion": "NULL"
                                },
                                {
                                    "CustomerId": "52",
                                    "CustomerRegion": "NULL"
                                },
                                {
                                    "CustomerId": "53",
                                    "CustomerRegion": "NULL"
                                },
                                {
                                    "CustomerId": "54",
                                    "CustomerRegion": "NULL"
                                },
                                {
                                    "CustomerId": "49",
                                    "CustomerRegion": "NULL"
                                },
                                {
                                    "CustomerId": "50",
                                    "CustomerRegion": "NULL"
                                },
                                {
                                    "CustomerId": "39",
                                    "CustomerRegion": "NULL"
                                },
                                {
                                    "CustomerId": "40",
                                    "CustomerRegion": "NULL"
                                },
                                {
                                    "CustomerId": "41",
                                    "CustomerRegion": "NULL"
                                },
                                {
                                    "CustomerId": "22",
                                    "CustomerRegion": "NULL"
                                },
                                {
                                    "CustomerId": "23",
                                    "CustomerRegion": "NULL"
                                },
                                {
                                    "CustomerId": "24",
                                    "CustomerRegion": "NULL"
                                },
                                {
                                    "CustomerId": "25",
                                    "CustomerRegion": "NULL"
                                },
                                {
                                    "CustomerId": "26",
                                    "CustomerRegion": "NULL"
                                },
                                {
                                    "CustomerId": "27",
                                    "CustomerRegion": "NULL"
                                },
                                {
                                    "CustomerId": "28",
                                    "CustomerRegion": "NULL"
                                },
                                {
                                    "CustomerId": "29",
                                    "CustomerRegion": "NULL"
                                },
                                {
                                    "CustomerId": "30",
                                    "CustomerRegion": "NULL"
                                },
                                {
                                    "CustomerId": "16",
                                    "CustomerRegion": "NULL"
                                },
                                {
                                    "CustomerId": "17",
                                    "CustomerRegion": "NULL"
                                },
                                {
                                    "CustomerId": "18",
                                    "CustomerRegion": "NULL"
                                },
                                {
                                    "CustomerId": "19",
                                    "CustomerRegion": "NULL"
                                },
                                {
                                    "CustomerId": "20",
                                    "CustomerRegion": "NULL"
                                },
                                {
                                    "CustomerId": "11",
                                    "CustomerRegion": "NULL"
                                },
                                {
                                    "CustomerId": "12",
                                    "CustomerRegion": "NULL"
                                },
                                {
                                    "CustomerId": "13",
                                    "CustomerRegion": "NULL"
                                },
                                {
                                    "CustomerId": "14",
                                    "CustomerRegion": "NULL"
                                },
                                {
                                    "CustomerId": "1",
                                    "CustomerRegion": "NULL"
                                },
                                {
                                    "CustomerId": "2",
                                    "CustomerRegion": "NULL"
                                },
                                {
                                    "CustomerId": "3",
                                    "CustomerRegion": "NULL"
                                },
                                {
                                    "CustomerId": "4",
                                    "CustomerRegion": "NULL"
                                },
                                {
                                    "CustomerId": "5",
                                    "CustomerRegion": "NULL"
                                },
                                {
                                    "CustomerId": "6",
                                    "CustomerRegion": "NULL"
                                },
                                {
                                    "CustomerId": "7",
                                    "CustomerRegion": "NULL"
                                },
                                {
                                    "CustomerId": "8",
                                    "CustomerRegion": "NULL"
                                },
                                {
                                    "CustomerId": "9",
                                    "CustomerRegion": "NULL"
                                },
                                {
                                    "CustomerId": "83",
                                    "CustomerRegion": "NULL"
                                },
                                {
                                    "CustomerId": "84",
                                    "CustomerRegion": "NULL"
                                },
                                {
                                    "CustomerId": "85",
                                    "CustomerRegion": "NULL"
                                },
                                {
                                    "CustomerId": "86",
                                    "CustomerRegion": "NULL"
                                },
                                {
                                    "CustomerId": "87",
                                    "CustomerRegion": "NULL"
                                },
                                {
                                    "CustomerId": "90",
                                    "CustomerRegion": "NULL"
                                },
                                {
                                    "CustomerId": "91",
                                    "CustomerRegion": "NULL"
                                },
                                {
                                    "CustomerId": "79",
                                    "CustomerRegion": "NULL"
                                },
                                {
                                    "CustomerId": "80",
                                    "CustomerRegion": "NULL"
                                }
                            ]
                        },
                        "text/html": [
                            "<table>",
                            "<tr><th>CustomerId</th><th>CustomerRegion</th></tr>",
                            "<tr><td>55</td><td>AK</td></tr>",
                            "<tr><td>42</td><td>BC</td></tr>",
                            "<tr><td>10</td><td>BC</td></tr>",
                            "<tr><td>45</td><td>CA</td></tr>",
                            "<tr><td>37</td><td>Co. Cork</td></tr>",
                            "<tr><td>33</td><td>DF</td></tr>",
                            "<tr><td>71</td><td>ID</td></tr>",
                            "<tr><td>38</td><td>Isle of Wight</td></tr>",
                            "<tr><td>46</td><td>Lara</td></tr>",
                            "<tr><td>78</td><td>MT</td></tr>",
                            "<tr><td>65</td><td>NM</td></tr>",
                            "<tr><td>47</td><td>Nueva Esparta</td></tr>",
                            "<tr><td>48</td><td>OR</td></tr>",
                            "<tr><td>36</td><td>OR</td></tr>",
                            "<tr><td>77</td><td>OR</td></tr>",
                            "<tr><td>32</td><td>OR</td></tr>",
                            "<tr><td>51</td><td>Québec</td></tr>",
                            "<tr><td>61</td><td>RJ</td></tr>",
                            "<tr><td>67</td><td>RJ</td></tr>",
                            "<tr><td>34</td><td>RJ</td></tr>",
                            "<tr><td>31</td><td>SP</td></tr>",
                            "<tr><td>21</td><td>SP</td></tr>",
                            "<tr><td>15</td><td>SP</td></tr>",
                            "<tr><td>62</td><td>SP</td></tr>",
                            "<tr><td>81</td><td>SP</td></tr>",
                            "<tr><td>88</td><td>SP</td></tr>",
                            "<tr><td>35</td><td>Táchira</td></tr>",
                            "<tr><td>43</td><td>WA</td></tr>",
                            "<tr><td>89</td><td>WA</td></tr>",
                            "<tr><td>82</td><td>WA</td></tr>",
                            "<tr><td>75</td><td>WY</td></tr>",
                            "<tr><td>76</td><td>NULL</td></tr>",
                            "<tr><td>72</td><td>NULL</td></tr>",
                            "<tr><td>73</td><td>NULL</td></tr>",
                            "<tr><td>74</td><td>NULL</td></tr>",
                            "<tr><td>44</td><td>NULL</td></tr>",
                            "<tr><td>66</td><td>NULL</td></tr>",
                            "<tr><td>68</td><td>NULL</td></tr>",
                            "<tr><td>69</td><td>NULL</td></tr>",
                            "<tr><td>70</td><td>NULL</td></tr>",
                            "<tr><td>63</td><td>NULL</td></tr>",
                            "<tr><td>64</td><td>NULL</td></tr>",
                            "<tr><td>56</td><td>NULL</td></tr>",
                            "<tr><td>57</td><td>NULL</td></tr>",
                            "<tr><td>58</td><td>NULL</td></tr>",
                            "<tr><td>59</td><td>NULL</td></tr>",
                            "<tr><td>60</td><td>NULL</td></tr>",
                            "<tr><td>52</td><td>NULL</td></tr>",
                            "<tr><td>53</td><td>NULL</td></tr>",
                            "<tr><td>54</td><td>NULL</td></tr>",
                            "<tr><td>49</td><td>NULL</td></tr>",
                            "<tr><td>50</td><td>NULL</td></tr>",
                            "<tr><td>39</td><td>NULL</td></tr>",
                            "<tr><td>40</td><td>NULL</td></tr>",
                            "<tr><td>41</td><td>NULL</td></tr>",
                            "<tr><td>22</td><td>NULL</td></tr>",
                            "<tr><td>23</td><td>NULL</td></tr>",
                            "<tr><td>24</td><td>NULL</td></tr>",
                            "<tr><td>25</td><td>NULL</td></tr>",
                            "<tr><td>26</td><td>NULL</td></tr>",
                            "<tr><td>27</td><td>NULL</td></tr>",
                            "<tr><td>28</td><td>NULL</td></tr>",
                            "<tr><td>29</td><td>NULL</td></tr>",
                            "<tr><td>30</td><td>NULL</td></tr>",
                            "<tr><td>16</td><td>NULL</td></tr>",
                            "<tr><td>17</td><td>NULL</td></tr>",
                            "<tr><td>18</td><td>NULL</td></tr>",
                            "<tr><td>19</td><td>NULL</td></tr>",
                            "<tr><td>20</td><td>NULL</td></tr>",
                            "<tr><td>11</td><td>NULL</td></tr>",
                            "<tr><td>12</td><td>NULL</td></tr>",
                            "<tr><td>13</td><td>NULL</td></tr>",
                            "<tr><td>14</td><td>NULL</td></tr>",
                            "<tr><td>1</td><td>NULL</td></tr>",
                            "<tr><td>2</td><td>NULL</td></tr>",
                            "<tr><td>3</td><td>NULL</td></tr>",
                            "<tr><td>4</td><td>NULL</td></tr>",
                            "<tr><td>5</td><td>NULL</td></tr>",
                            "<tr><td>6</td><td>NULL</td></tr>",
                            "<tr><td>7</td><td>NULL</td></tr>",
                            "<tr><td>8</td><td>NULL</td></tr>",
                            "<tr><td>9</td><td>NULL</td></tr>",
                            "<tr><td>83</td><td>NULL</td></tr>",
                            "<tr><td>84</td><td>NULL</td></tr>",
                            "<tr><td>85</td><td>NULL</td></tr>",
                            "<tr><td>86</td><td>NULL</td></tr>",
                            "<tr><td>87</td><td>NULL</td></tr>",
                            "<tr><td>90</td><td>NULL</td></tr>",
                            "<tr><td>91</td><td>NULL</td></tr>",
                            "<tr><td>79</td><td>NULL</td></tr>",
                            "<tr><td>80</td><td>NULL</td></tr>",
                            "</table>"
                        ]
                    }
                }
            ],
            "execution_count": 19
        },
        {
            "cell_type": "markdown",
            "source": [
                "**NACE Competencies and GPT**"
            ],
            "metadata": {
                "language": "sql",
                "azdata_cell_guid": "24cf98e8-8c6b-4ff5-ab58-8efd6745ce29"
            },
            "attachments": {}
        },
        {
            "cell_type": "markdown",
            "source": [
                "For this assignment, some of the aspects I believe were important are Communication, Teamwork, and Technology.\n",
                "\n",
                "Communication: Being able to communication effectively led our team to further understand the assignment. Since every member interpreted slightly different, we were able to get various ideas to solidify a final strategy.\n",
                "\n",
                "Teamwork: Understanding that this is a group effort and being a \"team player\" allowed us to distribute the tasks in an effective manner.\n",
                "\n",
                "Technology: A major part of this assignment is understanding the backend software used such as SSMS, Docker, and WSL with Ubuntu Virtual Environment. \n",
                "\n",
                "In creating the MP4 file, Communication and Technology was leveraged. Being able to explain the tasks in a clear and effective manner is key. Being able to use Azure Notebooks to create a Jupyter .ipynb and video recording (OBS, open source) was a must have technology. \n",
                "\n",
                "Personally, I was able to integreate Chat GPT in this assignment to further understand the backend software. It helped me understand the uses of WSL and being able to use Docker in conjunction to create an independant container to use an SQL server."
            ],
            "metadata": {
                "language": "sql",
                "azdata_cell_guid": "4a687005-602c-448d-90b7-10c540728342"
            },
            "attachments": {}
        }
    ]
}